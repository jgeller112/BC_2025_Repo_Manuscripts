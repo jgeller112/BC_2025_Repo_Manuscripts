{
 "cells": [
  {
   "cell_type": "markdown",
   "metadata": {},
   "source": [
    "# APS_demo\n",
    "\n",
    "Norah Jones (The University)\n",
    "\n",
    "## Section\n",
    "\n",
    "This is a simple placeholder for the manuscript’s main document \\[@knuth84\\]."
   ],
   "id": "6ba42391-ffcf-4731-8b1c-dc238659d5a1"
  },
  {
   "cell_type": "code",
   "execution_count": null,
   "metadata": {},
   "outputs": [
    {
     "output_type": "stream",
     "name": "stdout",
     "text": [
      "[1] 2"
     ]
    }
   ],
   "source": [
    "1 + 1"
   ],
   "id": "dacf700c-3764-45ef-8f2b-11544f7b21b4"
  }
 ],
 "nbformat": 4,
 "nbformat_minor": 5,
 "metadata": {}
}
